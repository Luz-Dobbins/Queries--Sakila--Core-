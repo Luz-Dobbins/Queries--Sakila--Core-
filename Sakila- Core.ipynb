{
 "cells": [
  {
   "cell_type": "markdown",
   "id": "4c21d5ff",
   "metadata": {},
   "source": [
    "<img src ='Data/sakila ERD.png'>"
   ]
  },
  {
   "cell_type": "code",
   "execution_count": 1,
   "id": "22521f72",
   "metadata": {},
   "outputs": [],
   "source": [
    "import pandas as pd\n",
    "from sqlalchemy import create_engine\n",
    "import pymysql\n",
    "pymysql.install_as_MySQLdb()\n",
    "from sqlalchemy_utils import database_exists\n",
    "from urllib.parse import quote_plus as urlquote\n",
    "from sqlalchemy.engine import create_engine"
   ]
  },
  {
   "cell_type": "code",
   "execution_count": 3,
   "id": "2cd8d919",
   "metadata": {},
   "outputs": [
    {
     "ename": "NameError",
     "evalue": "name 'Data' is not defined",
     "output_type": "error",
     "traceback": [
      "\u001b[1;31m---------------------------------------------------------------------------\u001b[0m",
      "\u001b[1;31mNameError\u001b[0m                                 Traceback (most recent call last)",
      "Cell \u001b[1;32mIn [3], line 1\u001b[0m\n\u001b[1;32m----> 1\u001b[0m filename\u001b[38;5;241m=\u001b[39m (\u001b[43mData\u001b[49m\u001b[38;5;241m/\u001b[39msakila\u001b[38;5;241m-\u001b[39mdata\u001b[38;5;241m.\u001b[39msql)\n\u001b[0;32m      2\u001b[0m engine \u001b[38;5;241m=\u001b[39m create_engine(filename)\n",
      "\u001b[1;31mNameError\u001b[0m: name 'Data' is not defined"
     ]
    }
   ],
   "source": [
    "filename= ('Data/sakila-data.sql')\n",
    "engine = create_engine(filename)"
   ]
  },
  {
   "cell_type": "code",
   "execution_count": null,
   "id": "d0ce9008",
   "metadata": {},
   "outputs": [],
   "source": [
    "## Check if database exists, if not, create it\n",
    "if database_exists(connection):\n",
    "    print('It exists!')\n",
    "else:\n",
    "    create_database(connection)\n",
    "    print('Database created!')"
   ]
  },
  {
   "cell_type": "code",
   "execution_count": null,
   "id": "65c6e2b1",
   "metadata": {},
   "outputs": [],
   "source": [
    "q = '''SHOW TABLES'''\n",
    "pd.read_sql(q,engine)"
   ]
  },
  {
   "cell_type": "code",
   "execution_count": null,
   "id": "3e6486cd",
   "metadata": {},
   "outputs": [],
   "source": []
  }
 ],
 "metadata": {
  "kernelspec": {
   "display_name": "Python (dojo-env)",
   "language": "python",
   "name": "dojo-env"
  },
  "language_info": {
   "codemirror_mode": {
    "name": "ipython",
    "version": 3
   },
   "file_extension": ".py",
   "mimetype": "text/x-python",
   "name": "python",
   "nbconvert_exporter": "python",
   "pygments_lexer": "ipython3",
   "version": "3.9.15"
  },
  "toc": {
   "base_numbering": 1,
   "nav_menu": {},
   "number_sections": false,
   "sideBar": true,
   "skip_h1_title": false,
   "title_cell": "Table of Contents",
   "title_sidebar": "Contents",
   "toc_cell": false,
   "toc_position": {},
   "toc_section_display": true,
   "toc_window_display": false
  }
 },
 "nbformat": 4,
 "nbformat_minor": 5
}
